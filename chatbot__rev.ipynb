{
  "nbformat": 4,
  "nbformat_minor": 0,
  "metadata": {
    "colab": {
      "provenance": [],
      "authorship_tag": "ABX9TyPZ+Iy8WXoMlPxDqg02QmEm",
      "include_colab_link": true
    },
    "kernelspec": {
      "name": "python3",
      "display_name": "Python 3"
    },
    "language_info": {
      "name": "python"
    }
  },
  "cells": [
    {
      "cell_type": "markdown",
      "metadata": {
        "id": "view-in-github",
        "colab_type": "text"
      },
      "source": [
        "<a href=\"https://colab.research.google.com/github/Fatima8024/CODES/blob/main/chatbot__rev.ipynb\" target=\"_parent\"><img src=\"https://colab.research.google.com/assets/colab-badge.svg\" alt=\"Open In Colab\"/></a>"
      ]
    },
    {
      "cell_type": "code",
      "execution_count": null,
      "metadata": {
        "id": "AZuPrYWlimQz"
      },
      "outputs": [],
      "source": [
        "from google.colab import userdata\n",
        "GOOGLE_API_KEY_1 = userdata.get('GOOGLE_API_KEY_1')\n"
      ]
    },
    {
      "cell_type": "code",
      "source": [
        "if GOOGLE_API_KEY_1:\n",
        "  print()"
      ],
      "metadata": {
        "colab": {
          "base_uri": "https://localhost:8080/"
        },
        "id": "ftNN73RpjPD2",
        "outputId": "1e5a5f02-d94c-4f0a-b1df-4ac4c3a9b7eb"
      },
      "execution_count": null,
      "outputs": [
        {
          "output_type": "stream",
          "name": "stdout",
          "text": [
            "\n"
          ]
        }
      ]
    },
    {
      "cell_type": "code",
      "source": [
        "!pip install -Uq google_generativeai"
      ],
      "metadata": {
        "id": "rCe-4bHwjWpi"
      },
      "execution_count": null,
      "outputs": []
    },
    {
      "cell_type": "code",
      "source": [
        "import google.generativeai as genai\n",
        "genai.configure(api_key = GOOGLE_API_KEY_1)"
      ],
      "metadata": {
        "id": "5LWygIhGjmDA"
      },
      "execution_count": null,
      "outputs": []
    },
    {
      "cell_type": "markdown",
      "source": [
        "To generate text only"
      ],
      "metadata": {
        "id": "vK6doyINqXaV"
      }
    },
    {
      "cell_type": "code",
      "source": [
        "from google.generativeai.generative_models import GenerativeModel\n",
        "from IPython.display import Markdown\n",
        "\n",
        "model = GenerativeModel('gemini-2.0-flash-exp')\n",
        "response = model.generate_content(\"What is AI?\")\n",
        "Markdown(response.text)"
      ],
      "metadata": {
        "colab": {
          "base_uri": "https://localhost:8080/",
          "height": 1000
        },
        "id": "9g4SFdpDmRIb",
        "outputId": "32dc3ff5-90b6-4ea8-eaaf-3054cefd25df"
      },
      "execution_count": null,
      "outputs": [
        {
          "output_type": "execute_result",
          "data": {
            "text/plain": [
              "<IPython.core.display.Markdown object>"
            ],
            "text/markdown": "Alright, let's break down what AI is! It's a really broad and complex topic, but here's a way to understand it:\n\n**At its core, Artificial Intelligence (AI) is the field of computer science dedicated to creating systems that can perform tasks that typically require human intelligence.** This includes things like:\n\n* **Learning:** Adapting and improving based on data.\n* **Problem-solving:** Finding solutions to complex issues.\n* **Reasoning:** Drawing logical inferences and making decisions.\n* **Perception:** Understanding and interpreting sensory input like images, sounds, and text.\n* **Language Understanding:** Comprehending and generating human language.\n\n**Think of it like trying to mimic human intelligence in machines.**\n\nHere's a breakdown of some key aspects of AI:\n\n**Key Concepts and Approaches:**\n\n* **Machine Learning (ML):** A subset of AI that focuses on enabling computers to learn from data without being explicitly programmed. Instead of hard-coded rules, ML algorithms find patterns and make predictions.\n    * **Examples:** Image recognition, spam filtering, recommendation systems.\n* **Deep Learning (DL):** A specific type of machine learning that uses artificial neural networks with multiple layers to learn complex representations from data.\n    * **Examples:** Advanced image and speech recognition, natural language processing.\n* **Natural Language Processing (NLP):** Focuses on enabling computers to understand, interpret, and generate human language.\n    * **Examples:** Chatbots, language translation, sentiment analysis.\n* **Computer Vision:** Allows computers to \"see\" and interpret images and videos.\n    * **Examples:** Facial recognition, object detection, self-driving cars.\n* **Robotics:** Combines AI with engineering to create physical robots that can perform tasks autonomously.\n    * **Examples:** Assembly line robots, surgical robots, autonomous exploration vehicles.\n\n**Types of AI:**\n\n* **Narrow or Weak AI:** Designed to perform a specific task very well. This is the type of AI we see most often today.\n    * **Examples:** Siri, Alexa, recommendation algorithms, chess-playing programs.\n* **General or Strong AI:** Hypothetical AI with human-level intelligence capable of performing any intellectual task that a human being can. This type of AI doesn't currently exist.\n* **Super AI:** A theoretical AI that surpasses human intelligence in every way. This is often a topic in science fiction.\n\n**Why is AI Important?**\n\nAI has the potential to revolutionize many aspects of our lives:\n\n* **Automation:** Automating repetitive and time-consuming tasks.\n* **Healthcare:** Diagnosing diseases, developing new treatments, and improving patient care.\n* **Transportation:** Creating self-driving cars and optimizing traffic flow.\n* **Business:** Improving efficiency, personalizing customer experiences, and developing new products.\n* **Education:** Creating personalized learning experiences and providing access to education for everyone.\n* **Research:** Accelerating scientific discovery by analyzing large datasets.\n\n**Challenges and Concerns:**\n\n* **Ethical Issues:** Bias in algorithms, job displacement, potential misuse of AI technologies.\n* **Transparency:** Difficulty in understanding how some AI algorithms make decisions (\"black box\" problem).\n* **Data Privacy:** Concerns about how AI systems collect and use personal data.\n* **Security:** Potential vulnerabilities in AI systems to attacks and manipulation.\n\n**In Summary:**\n\nAI is a rapidly evolving field aimed at creating intelligent machines. While it offers tremendous potential for progress and improvement, it also presents ethical and practical challenges that need to be carefully addressed. It's not just about futuristic robots; it's about creating tools that can learn, adapt, and solve complex problems in ways that were previously unimaginable.\n\nDo you have any other questions about AI? I'm happy to dive deeper into any specific aspect you're interested in.\n"
          },
          "metadata": {},
          "execution_count": 13
        }
      ]
    },
    {
      "cell_type": "markdown",
      "source": [
        "to generate image\n",
        " You can uncomment lines if you're not running the above code for text only gen."
      ],
      "metadata": {
        "id": "nTdnBdC6qbdj"
      }
    },
    {
      "cell_type": "code",
      "source": [
        "#from google.generativeai.generative_models import GenerativeModel\n",
        "#from IPython.display import Markdown\n",
        "\n",
        "#model = GenerativeModel('gemini-2.0-flash-exp')\n",
        "prompt = \"Describe this image\"\n",
        "\n",
        "import PIL.Image\n",
        "img = PIL.Image.open('/content/image 1.jpg')\n",
        "display(img)\n"
      ],
      "metadata": {
        "colab": {
          "base_uri": "https://localhost:8080/",
          "height": 958
        },
        "id": "6CfK8dB5mQ64",
        "outputId": "d10a46ba-0c55-430f-fb4d-3e54a06d8ec8"
      },
      "execution_count": null,
      "outputs": []
    },
    {
      "cell_type": "code",
      "source": [
        "response = model.generate_content([prompt,img])\n",
        "Markdown(response.text)"
      ],
      "metadata": {
        "colab": {
          "base_uri": "https://localhost:8080/",
          "height": 638
        },
        "id": "mCAOrbk-sK5t",
        "outputId": "09e09844-f4ec-4f83-b7f6-4e096f042dd5"
      },
      "execution_count": null,
      "outputs": [
        {
          "output_type": "execute_result",
          "data": {
            "text/plain": [
              "<IPython.core.display.Markdown object>"
            ],
            "text/markdown": "Certainly! Here's a description of the image:\n\n**Overall Impression:**\n\nThe image is a beautiful landscape shot, capturing a serene mountain scene at sunset. The warm light of the setting sun casts a golden hue on the mountain peaks, creating a stunning contrast with the cool tones of the sky and the lush green foreground. \n\n**Elements:**\n\n*   **Mountains:** Jagged, rocky mountains dominate the mid-ground and background. Their faces are layered with exposed rock, giving them a rugged appearance. The mountain peaks are lit by the setting sun, making them appear a vibrant, warm orange. There are sections where the rock is a cooler gray.\n*   **Trees:** In the foreground and extending up the mountain slopes, there are dense stands of tall, evergreen trees. The trees are a dark, rich green, and they contrast well with the brighter colors of the sky and mountains.\n*   **Meadow:** The very foreground is a sloping meadow filled with a variety of grasses and wildflowers. There are patches of dark purple, red, and yellow flowers mixed in with the greenery. There are a couple of visible, light-gray rocks in the meadow.\n*   **Sky:** The sky is a gradient of light blue at the top, fading slightly in color closer to the mountains. There are scattered light, wispy clouds that add a little texture and depth to the sky. The colors of the sky are cooler than those of the mountain.\n*   **Lighting:** The most striking aspect of the image is the dramatic lighting. The sun is setting to the right, causing the mountain peaks to glow with a warm, golden light that is reflected off the exposed rock. The sunlight also catches on the edges of some of the foreground trees. The rest of the scene, where the sun's light is not directly hitting, is bathed in a cooler light.\n\n**Composition:**\n\nThe image is well-balanced, with the mountains and trees framing the meadow and drawing the eye to the focal point of the sunset-lit mountain peaks. The foreground meadow adds depth and creates a sense of scale. The low angle of the camera gives a sense of immersion in the scene, as if the viewer is standing at the edge of the meadow.\n\n**Mood:**\n\nThe image evokes a sense of peace, tranquility, and natural beauty. The warmth of the sunset creates a cozy feeling, while the rugged mountains and dense forest give a sense of wildness and solitude.\n\nLet me know if you would like any other details."
          },
          "metadata": {},
          "execution_count": 16
        }
      ]
    }
  ]
}